{
 "cells": [
  {
   "cell_type": "code",
   "execution_count": null,
   "metadata": {},
   "outputs": [],
   "source": [
    "top: 887px;\n",
    "    left: 115px;\n",
    "    width: 796px;\n",
    "    height: 345px;\n",
    "    position: absolute"
   ]
  }
 ],
 "metadata": {
  "language_info": {
   "name": "python"
  }
 },
 "nbformat": 4,
 "nbformat_minor": 2
}
